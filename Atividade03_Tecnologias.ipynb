{
  "nbformat": 4,
  "nbformat_minor": 0,
  "metadata": {
    "colab": {
      "provenance": [],
      "collapsed_sections": [
        "DLTYTSP8WD65",
        "qqVTeamSVLDk",
        "XvLMAEuZLO_h",
        "wigvZ1o3T5ww",
        "uWfzauFqT4ZQ",
        "QkUL_P38oKHZ",
        "--bl6L8Bo_e6",
        "2AxmlIjC_ijk",
        "1Us1Ku5GUlja",
        "pKQehUdKIDAj",
        "WoHFILEKNn7j",
        "n1chjCQRPbs_",
        "v10xlc-pVAuI",
        "ijXCX6OtYWaw",
        "2dG4_ZN1mJd4",
        "h1GK8EwHo1pT",
        "VbDbXhTJ8d7r",
        "tpwQi7Nbz-LQ",
        "G3_eB-z6YtqM",
        "sWgNV_5ogJss",
        "2j30HMWboa--",
        "Bl_wyQdLpxX0",
        "RbPzuSBdiRez",
        "fmERhZdCkF0g",
        "Sdae7fTjzDDK",
        "qmQD2keKqkq8",
        "QM32S_dGEahb",
        "XDOurr5BBAQ-",
        "zgqE4ge6-sZc",
        "yg8m2syMDIqD",
        "XCc09Dz2HQ-g",
        "eZ4mqFg-Nfcs",
        "dPHSHmVhPA_H",
        "BzqL85NKQEDQ",
        "ixK7bmpO1dNS",
        "VGrDFBAY3YVN",
        "d8cJ34Fm_9uE",
        "a1Sts7a8ibxT",
        "wFfU-kMSiAz9",
        "CpUXiP-zvkKj",
        "X_0-sbBwx8ri",
        "2lITh0K9IJds",
        "W0bp1V3h2niJ",
        "0yebXo2NGlnY",
        "XPwQ7nHhPvN7",
        "lY-CZlF3WPD8",
        "35q-HEHAEMHi",
        "rGiPDFR0nj3E",
        "pFCNPMg3oLQc",
        "xJtnf5ZGsj17",
        "Z2AGCrmf1hUh",
        "aUp1NCa319Rr",
        "xEROENB931BI",
        "5pyR0zZum8-9",
        "PmLcvBFy8kVr",
        "mc9U5seEds5k",
        "JEPwOEO9xphD",
        "AheGtC7ltexC",
        "BG4S0pRjh9Nz",
        "0W8ilZE7izMC",
        "h81NXMqjm9fp",
        "jyv4WAjVoiXR",
        "jurqKWGBpGpT",
        "2YV5kw4VrG-j",
        "JTWkm0HOvcTS",
        "Vlgy25u3wBTh",
        "T1gUMJJsypsa"
      ],
      "include_colab_link": true
    },
    "kernelspec": {
      "name": "python3",
      "display_name": "Python 3"
    },
    "language_info": {
      "name": "python"
    }
  },
  "cells": [
    {
      "cell_type": "markdown",
      "metadata": {
        "id": "view-in-github",
        "colab_type": "text"
      },
      "source": [
        "<a href=\"https://colab.research.google.com/github/okgiovane/Atividade3_Tecnologias/blob/main/Atividade03_Tecnologias.ipynb\" target=\"_parent\"><img src=\"https://colab.research.google.com/assets/colab-badge.svg\" alt=\"Open In Colab\"/></a>"
      ]
    },
    {
      "cell_type": "markdown",
      "metadata": {
        "id": "DLTYTSP8WD65"
      },
      "source": [
        "# Introdução à Criptografia  \n",
        "\n",
        "Autor: **Giovane Eduardo de Lima**\n",
        "\n",
        "Essa atividade foi desenvolvido para a disciplina de Tecnologias no ensino de Matemática no 1° semestre de 2023. O objetivo é fazer uma introdução à criptografia, apresentando alguns metodos e também uma constextualização historica. Durante a atividade serão propostos exercicios que permitam o estudante articula pensamento computacional, linguagem de programação e conteúdos de matemática.\n",
        "\n",
        "Para a resolução dos exercicio os estudantes precisaram desenvolver estratégias e implemeta-las em linguagem Python de programação. O foco não é se aprofundar em comandos da linguagem Python, mas como um entendimento básico de alguns comando é fundamental para as atividades, será feita uma breve explicação. É indica que seja feita uma apresentação da linguagem Python antes da aplicação dessa atividade. Para maiores dúvidas fica indicado a leitura da [documentação](https://docs.python.org/pt-br/3/tutorial/index.html) da linguagem Python, que conta com uma discrição de funcionamento dos comandos e exemplos de códigos.   \n",
        "\n"
      ]
    },
    {
      "cell_type": "markdown",
      "metadata": {
        "id": "KHkv4D8Cy2xk"
      },
      "source": [
        "# <h1 id='Primeiros-passos'> 1. Um pouco da história da criptografia </h1>\n",
        "\n",
        "---\n",
        "\n",
        "\n",
        "     "
      ]
    },
    {
      "cell_type": "markdown",
      "source": [
        "## Introdução\n",
        "---\n",
        "A criptografia é geralmente descrita como a arte e a ciência de criar códigos secretos. Criada a partir da necessidade de buscar sigilo no envio e recebimento de informações, algo que é muito antigo, na Roma antiga o imperador César a usava para enviar mensagens codificadas que apenas seus generais conseguiam ler, mais recentemente, durante a segunda guerra mundial, o exército alemão possuía artefatos mecânicos bastante sosticados projetados para codicar as mensagens enviadas."
      ],
      "metadata": {
        "id": "ZnN9DDVgGnzN"
      }
    },
    {
      "cell_type": "markdown",
      "source": [
        "O termo criptografia deriva da fusão das palavras gregas kryptós (oculto) e egráphein (escrever) e atualmente existe uma área de pesquisa em matemática dedicada ao estudo de técnicas e algoritmos que garantam a confidencialidade da informação e a integridade dos dados transmitidos.\n",
        "\n",
        "Acredita-se que as primeiras informações criptografadas tenham sido registradas por escribas do faraó Khnumhotep II, por volta de 1900 a.C, no antigo Egito, que resolveu trocar trechos das escritas em argila que indicavam os caminhos para os tesouros guardados nas pirâmides, de forma que só os sacerdotes poderiam decifrá-los.\n",
        "\n",
        "A criptografia também proliferou na Mesopotâmia, onde os intaglios (peças de pedra com símbolos de identificação) funcionavam como certificados rudimentares. Os hebreus, por volta de 600 a 500 a.C, valiam-se das cifras ATBASH, ALBAM ATBAH, que consistiram da substituição simples de uma letra por outra (substituição monoalfabética).\n",
        "\n",
        "Na Idade Média, a contribuição maior foi dada pelos árabes, principalmente pelo temor da Inquisição, que assolava o mundo ocidental. Nos anos 700, al-Khalil apresenta o método da palavra provável utilizado para decifrar mensagens. Nos anos 800, al-Kindi, filósofo árabe e autor de mais de 290 livros, escreveu um tratado sobre a utilização da análise de frequência para decifrar mensagens. O método consiste em analisar a repetição de uma letra na mensagem e substituí-la pelas letras que são normalmente mais usadas, como 'a', 'e', 'o', etc.\n",
        "\n",
        "Com a chegada da Renascença, encerrando o período de trevas da Idade Média, o estudo e aperfeiçoamento da criptografia ganham força, incentivados principalmente pelos governos, cientes de que informação era poder.\n",
        "\n",
        "No final dos anos 1400, Leon Battista Alberti apresenta a substituição polialfabética, uma nova técnica que permitia que diferentes símbolos cifrados pudessem representar o mesmo símbolo do texto claro, dificultando a aplicação da análise de frequência. Nos anos 1500, Heinrich Cornelius Agrippa apresenta a cifra de Pig Pen (Porco no chiqueiro), que substitui letras por símbolos. Aperfeiçoando as ideias de Alberti, Blaise de Vigenère, em 1549, apresenta a cifra de Vigenère, um dos marcos da criptografia e que resistiu a todas as técnicas da criptoanálise por três séculos, até ser quebrada por Babagge e Kasiski já nos anos 1800."
      ],
      "metadata": {
        "id": "76dlI_XsG_N8"
      }
    },
    {
      "cell_type": "markdown",
      "metadata": {
        "id": "qqVTeamSVLDk"
      },
      "source": [
        "## <h2 id='ATBASH'> 1.1 A cifra ATBASH </h2>\n",
        "\n",
        "---\n",
        "\n",
        "Vamos focar agora na cifra de ATBASH. Essa cifra foi utilizada para escrever o \"Livro do Profeta Jeremias\" e correspondia a trocar a primeira letra (Aleph) do alfabeto pela última (Taw) e assim sucessivamente. No alfabeto latino tal correspondência seria:\n",
        "\n",
        "![cifra ATBASH](https://lh3.googleusercontent.com/KTQJPmFJlP-CFSAYhVep_p-LOS-iMbdgKGxf84DDxlZ9bzMTxXhQ2sN2aGfuRsZXyZTkufW6VYm6OAI67YcqvFg)\n",
        "\n"
      ]
    },
    {
      "cell_type": "markdown",
      "source": [
        "Vamos pensar agora em um algoritmo para codificar uma palavra usando a cifra de ATBASH. O algoritmo deve ter como entrada uma `Palavra` é o resultado será uma `Palavra_invertida` codificada na cifra ATBASH.\n",
        "\n",
        "Para explicar melhor como o algoritmo deve funcionar vamos pegar a palavra INFINITO (`Palavra = INFINITO`), cada letra dessa palavra podemos associar a um número começando em zero. A letra na posição 0 será a letra 'I' (`Palavra[0] = 'I'`), na posição 1 será a letra 'N' (`Palavra[1] = 'N'`), e assim por diante.\n",
        "\n",
        "Para cada letra devemos descobrir que posição ela ocupa no `Alfabeto` e vamos associa-la a letra que ocupa essa mesma posição no `Alfabeto_invertido`. Por exemplo a letra 'A' ocupa a posição 0 no `Alfabeto` (sempre vamos iniciar a contagem no 0), ou seja `Alfabeto[0] = 'A'`. Quem ocupa a mesma posição que a letra 'A' no `Alfabeto_invertido` é a letra 'Z', então devemos substituir 'A' por 'Z' (`'A'` &#8594;`'Z'`).\n",
        "\n",
        "Na palavra INFINITO devemos realizar as seguintes substituições:\n",
        "\n",
        "*   Letra 'I' ocupa a posição 8 em `Alfabeto`\n",
        "então (`'I'` &#8594;`Alfabeto_invertido[8] = 'R'`)      \n",
        "*   Letra 'N' ocupa a posição 13 em `Alfabeto`\n",
        "então (`'N'` &#8594;`Alfabeto_invertido[13] = 'M'`)\n",
        "*Letra 'F' ocupa a posição 5 em `Alfabeto`\n",
        "então (`'F'` &#8594;`Alfabeto_invertido[5] = 'U'`)\n",
        "*Letra 'I' ocupa a posição 8 em `Alfabeto`\n",
        "então (`'I'` &#8594;`Alfabeto_invertido[8] = 'R'`)\n",
        "*Letra 'N' ocupa a posição 13 em `Alfabeto`\n",
        "então (`'N'` &#8594;`Alfabeto_invertido[13] = 'M'`)\n",
        "*Letra 'I' ocupa a posição 8 em `Alfabeto`\n",
        "então (`'I'` &#8594;`Alfabeto_invertido[8] = 'R'`)\n",
        "*Letra 'T' ocupa a posição 19 em `Alfabeto`\n",
        "então (`'T'` &#8594;`Alfabeto_invertido[19] = 'G'`)\n",
        "*Letra 'O' ocupa a posição 15 em `Alfabeto`\n",
        "então (`'O'` &#8594;`Alfabeto_invertido[15] = 'L'`)\n",
        "\n",
        "Então a palavra INFINITO codificada pela cifra ATBASH será RMURMRGL (`ATBASH('INFINITO') = RMURMRGL`).\n",
        "\n",
        "Perceba que faremos varias substiruições, a quantidade irá depender da quantidade de letras que a palavra terá. Para isso vamos utilizar o comando `for` que irá criar uma `Palavra_invertida` que será a palavra codificada pela cifra ATBASH. Cada letra da `Palavra_invertida` será resultado da substituição realizada ( `Palavra_invertida[i]`&#8594; resultado da substituição, com `i` indo de 0 até o tamanho da palavra).  \n",
        "\n",
        "A seguir o código em Python que cria a função `ATBASH('X')`, onde `X` é a palavra que se deseja codificar (ou decodificar). A palavra deve estar sempre entre aspas simples (`' '`), todas as letras deve ser maiusculas e não devem conter acentos.  "
      ],
      "metadata": {
        "id": "ovWump5b8oOL"
      }
    },
    {
      "cell_type": "code",
      "source": [
        "Alfabeto = ['A','B','C','D','E','F','G','H','I','J','K','L','M','N','O','P','Q','R','S','T','U','V','W','X','Y','Z']\n",
        "\n",
        "# O codigo a seguir cria o Alfabeto_invertido.\n",
        "n = len(Alfabeto) # O comando len() calcula a quantidade de elementos de uma lista ou string (length)\n",
        "Alfabeto_invertido = [' ']*n\n",
        "\n",
        "for i in range(n):\n",
        "  Alfabeto_invertido[i] = Alfabeto[n-(i+1)]\n",
        "\n",
        "\n",
        "# O codigo a seguir cria a cifra ATBASH.\n",
        "def ATBASH(Palavra):\n",
        "  Palavra_invertida = ' '\n",
        "  Lista_vazia = [' ']*len(Palavra)\n",
        "  for i in range(len(Palavra)):\n",
        "    Lista_vazia[i] = Palavra[i]\n",
        "    Lista_vazia[i] = Alfabeto_invertido[Alfabeto.index(Lista_vazia[i])]\n",
        "    Palavra_invertida = Palavra_invertida + Lista_vazia[i]\n",
        "  return print(Palavra_invertida)\n",
        "\n",
        "# Exemplo\n",
        "ATBASH('INFINITO')"
      ],
      "metadata": {
        "id": "p10sto0Rbn3k"
      },
      "execution_count": null,
      "outputs": []
    },
    {
      "cell_type": "markdown",
      "source": [
        "### Exercício 1\n",
        "> a) Use a função `ATBASH()` para decodificar a frase 'ZOTFMH RMURMRGLH HZL NZRLIVH JFV LFGILH'.\n",
        "\n",
        "> b) Tente modificar o código para que seja possível codificar palavras que esteja em letras minuscula.  "
      ],
      "metadata": {
        "id": "nq22m0IXb3Xb"
      }
    },
    {
      "cell_type": "code",
      "source": [
        "# Use esse espaço para realizar o exercício 1\n"
      ],
      "metadata": {
        "id": "uSG0bGiob2a-"
      },
      "execution_count": null,
      "outputs": []
    },
    {
      "cell_type": "markdown",
      "metadata": {
        "id": "aSP3DRLtz50y"
      },
      "source": [
        "## <h2 id='instalacao-colab'>1.2 Código de Políbio </h2>\n",
        "\n",
        "---\n",
        "A cifra de Políbio ou código de Políbio troca cada letra por uma dupla de números que representam a sua possição na tabela a seguir:\n",
        "\n",
        "\n",
        "![Polibio](https://lh4.googleusercontent.com/aprVsc6v-6gBT4gIpIAvT4XjsmTj4aLhYPupUWzJXJxXF78PTLMlUQpWQbWwCcCclgg13pfxx9S_ziodm6-grJ8)\n",
        "\n",
        "\n",
        "Então a letra 'L' será susbittuida pelo número '32', pois esta na terceira linha ('3') segunda coluna ('2'). Nesta cifra a palavra 'CRIPTOGRAFIA' seria substituida por '134224414435224211212411'.\n"
      ]
    },
    {
      "cell_type": "markdown",
      "source": [
        "Podemos pensar em criar duas funções para trabalhar com essa cifra. A primeira seria a função `polibio('X')`, onde `'X'` seria uma palavra e o resultado dessa função seria o número que representa essa palavra. A outra função seria para decodificar (`Dcod_polibio('X')`), onde a entrada seria um número e o resultado seria uma palavra.\n",
        "\n",
        "Perceba que na cifra ATBASH a mesma função podia ser usada para codificar e decodificar. Na cifra de Políbio isso não é possível pois a entrada e o resultada são de naturezas diferentes (um é uma palavra e o outro é um número).\n",
        "\n",
        "A primeira coisa que precisamos lidar para começar a esboçar o algoritmo é definir o elemento que está na terceira linha primeira coluna. O elemento K/Q indica que quando aparecer o número `'31'` ele pode ser substituido por 'K' ou por 'Q', para saber qual substituição deve ser feita precisamos analisar o contexto. Por exemplo a sequência `'31451132'` pode representar a palavra `'QUAL'` ou `'KUAL'`, como a palavra `'KUAL'` não existe na língua portuguesa essa opção não é possível. Então vamos substituir o elemeto `'K/Q'` somente por `Q` pois é uma letra que aparece com mais frequência nas palavras.\n",
        "\n",
        "A tabela da cifra de Políbio pode ser vista como uma matriz, que vamos chamar de `'Po'`, e a susbstituição que queremos fazer é: dado uma letra substituir por `'ij'`, onde `'i'` representa a linha e `'j'` a coluna dessa letra. Em Python a contagem sempre começa no zero, então a letra `'A'` estaria na linha zero coluna zero (`'A' == Po[0][0] `)* e a letra `'L'`estaria na linha dois coluna\n",
        "um (`'L' == Po[2][1] `), para corrigir isso basta somar uma unidade (`+1`) aos índices.\n",
        "\n",
        "Para cada letra (`Texto[k]`, `k` começa em zero e vai até o tamanho do `Texto`) vamos percorrer a matriz `Po` (variando as linhas `i` e as colunas `j`) até achar a posição que a letra ocupa.  \n",
        "\n",
        "Por exemplo, `Texto = MATEMATICA`, onde `Texto[0] = 'M'`, o algoritmo vai percorrer a matriz até achar o elemento que seja igual a letra `'M'`, a letra esta na segunda linha segunda coluna (`Texto[0] == Po[2][2]` &#8594; `VERDADEIRO`), então `i=2` e `j=2` e a substituição será `'M'` &#8594; `str(2+1) + str(2+1) = '33'`. A função `str()` transforma um número em um texto (string), a soma nesse caso representa a junção das duas strings.\n",
        "\n",
        "O código em Python a seguir representa esse processo de codificação. Perceba que o código possui três comandos `for`, o primeiro serve para percorrer as letras do `Texto` e os dois outro `for` percorrem a matriz `Po`.   \n",
        "\n",
        "\\* Em python usamos o sinal `=` para atribuir valores, por exemplo `a=3`,`b=4` e `c=6`, e usamos o sinal de `==` para fazer uma comparação lógica, por exemplo `a+b == C` &#8594; `FALSO` e `2*a == C` &#8594; `VERDADEIRO`.    "
      ],
      "metadata": {
        "id": "u9AUEbV1VNG7"
      }
    },
    {
      "cell_type": "code",
      "source": [
        "# Cifra de Políbio - cÓdigo para codificar\n",
        "\n",
        "Po = [['A','B','C','D','E'],\n",
        "     ['F','G','H','I','J'],\n",
        "     ['Q','L','M','N','O'],\n",
        "     ['P','R','S','T','U'],\n",
        "     ['V','W','X','Y','Z']]\n",
        "\n",
        "def polibio(Texto):\n",
        "  Codigo = ' '\n",
        "  for k in range(len(Texto)):\n",
        "    for i in range(5):\n",
        "      for j in range(5):\n",
        "        if Texto[k] == (Po[i][j]):\n",
        "          Codigo = Codigo + str(i+1)+str(j+1)\n",
        "          print(Codigo)\n",
        "\n",
        "# exemplo\n",
        "polibio('MATEMATICA')"
      ],
      "metadata": {
        "id": "iBx0meOSclBl"
      },
      "execution_count": null,
      "outputs": []
    },
    {
      "cell_type": "markdown",
      "source": [
        "### Exercícios 2\n",
        "\n",
        "> Tendo como exemplo o algoritimo que serve para codificar uma palavra usando a cifra de Políbio, faça o esboço do algoritmo para decodificar (escreva o passo a passo e especifique as susbstituições que devem ser feitas) depois organize esse algoritmo em Python.  "
      ],
      "metadata": {
        "id": "xXp97Pu7pkWd"
      }
    },
    {
      "cell_type": "code",
      "source": [
        "# Use esse espaço para realizar o exercício 2\n"
      ],
      "metadata": {
        "id": "nmfYi81OplIb"
      },
      "execution_count": null,
      "outputs": []
    },
    {
      "cell_type": "markdown",
      "metadata": {
        "id": "2LLBuSBtEJEB"
      },
      "source": [
        "Para que o Manim funcione, é necessário reiniciar o ambiente de execução. Para isso, acesse o menu `Ambiente de execução` &#8594; `Reiniciar ambiente de execução`.\n",
        "\n",
        "\n",
        "\n",
        "Para verificar se tudo está funcionando, execute o seguinte código.\n",
        "Para tornar o uso do Manim mais simples, usaremos o Google Colab, uma plataforma gratuita para criar códigos em Python. Nesta plataforma, cada arquivo é chamado de **notebook**. Um notebook é dividido em **células** e pode conter tanto textos como códigos.\n",
        "\n",
        "\n",
        "Para instalar o Manim no Google Colab, basta executar o seguinte código, pressione <kbd>Shift</kbd> + <kbd>Enter</kbd> ou <kbd>Ctrl</kbd> + <kbd>Enter</kbd>.\n",
        "\n",
        "> Obs: O código a seguir pode demorar um tempo para rodar.Caso apareça a mensagem\n",
        "```\n",
        "Manim Community v0.11.0\n",
        "```\n",
        "ou algo parecido, o Manim foi instalado com sucesso.\n",
        "\n",
        "Caso apareça uma mensagem de erro, o Manim não foi instalado corretamente. Tente reexecutar as instruções anteriores.\n",
        "\n"
      ]
    },
    {
      "cell_type": "markdown",
      "metadata": {
        "id": "XvLMAEuZLO_h"
      },
      "source": [
        "## <h2 id='primeira-animacao'> 1.3 Código de César </h2>\n",
        "\n",
        "---\n",
        "\n",
        "Júlio César por volta de 50 a.C foi o criador da cifra mais famosa da Antiguidade, o código de César, que consistia na substituição de uma letra pela que lhe sucedia em três posições. Por exemplo, a letra 'A' seria substituida pela letra 'D' e a letra 'B' seria substituida pela letra 'E'. A tabela a seguir exemplifica as substituições que são feitas no Código de César.\n",
        "\n",
        "![Codigo de cesar](https://lh4.googleusercontent.com/DI6hlyagPntzQKwHAhzdB6D66Sb-gQew41_qDRC3-oEskvR0EVXqbzvrL099eJS39_jYmhNrfT63Y2aUIN1QQ3M)\n",
        "\n",
        "O código de César ainda é bastante utilizado nos dias de hoje, para garantir que textos eletrônicos não sejam lidos por acidente ou distração. Outras cifras se assemelham ao Código de César como o ROT-13 e o ROT-47.\n",
        "\n"
      ]
    },
    {
      "cell_type": "markdown",
      "source": [
        "No ROT-13 o valor do deslocamento é de 13 letras. A vantagem desse método é que não há qualquer que não há qualquer diferença entre o procedimento para codificar um texto em ROT-13 e o procedimento para decodifica-lo, isso se da pelo fato do nosso alfabeto possuir 26 letras. A seguir a tabela que representa as substiruições feita pelo ROT-13.\n",
        "\n",
        "![Rot13](https://lh6.googleusercontent.com/StCODlaYX5lCAb3Hqqe_k3J9_gzDvGzq8ZIQtkunJfnNvhb9UVTi6V3zYpldZ-QTcCrGSvzJfYWKstMaNOYySlZD5hJEfKYqUUWlqYPcnE9LhPb5Vryue-MGGZ_sDZA1Yw=w1280)\n",
        "\n",
        "Já o ROT-47 é um pouco mais complexo e permite incluir pontuação e espaços em branco na codificação, trazendo um resultado final aparentemente mais difícil de ser decifrado."
      ],
      "metadata": {
        "id": "8Puc2ffWIh9y"
      }
    },
    {
      "cell_type": "markdown",
      "source": [
        "### Exercício 3\n",
        ">a) Esboce o algoritimo de César e defina a função `Cesar('X')` que utiliza esse algoritmo para codificar uma palavra `X`.    \n",
        "\n",
        ">b) Esboce o algoritmo que codifica uma palavra usando o processo de substituição do ROT-13. Depois implemente esse algoritmo em Python e use para definir a função `ROT13('X')`, onde `X` é a palavra que se deseja codificar ou decodificar. Use esse código para decodificar a frase 'DOIS PONTOS DEFINEM UMA RETA'. (Dica: utilize o algoritmo da letra a) faça uma adptação)"
      ],
      "metadata": {
        "id": "M1GabD5fHRb2"
      }
    },
    {
      "cell_type": "code",
      "source": [
        "# Use esse espaço para realizar o exercício 3\n",
        "\n",
        "# Código de César\n",
        "\n",
        "\n",
        "\n",
        "\n",
        "\n",
        "\n",
        "\n",
        "\n",
        "\n"
      ],
      "metadata": {
        "id": "Zh-QQLm4Q24y"
      },
      "execution_count": null,
      "outputs": []
    },
    {
      "cell_type": "markdown",
      "source": [
        "# <h1 id='Referências'> 2. Referências </h1>\n",
        "---\n",
        "\n"
      ],
      "metadata": {
        "id": "lJ8AjMamlVps"
      }
    },
    {
      "cell_type": "markdown",
      "source": [
        "KIRILOV, Alexandre. *et all*. **10° Brincando de Matemática**: Criptografia. UFPR, 2014. Versão online disponivel em: http://www.petmatematica.ufpr.br/arquivos/10_brincando.pdf"
      ],
      "metadata": {
        "id": "3FwjMbIOJDV1"
      }
    },
    {
      "cell_type": "markdown",
      "source": [
        "# <h1 id='Resolução'> 3. Resolução dos exercícios  </h1>\n",
        "---"
      ],
      "metadata": {
        "id": "1Xz1nYYnl_7v"
      }
    },
    {
      "cell_type": "markdown",
      "source": [
        "## Exercício 1\n",
        "\n",
        "> a) A frase é 'ALGUNS INFINITOS SÃO MAIORES QUE OUTROS'\n",
        "\n",
        "> b) Use o comando `if` para separar em dois casos, se ('`ìf`') a letra for minuscula substitua por uma letra minuscula (crie um `alfabeto` e um `alfabeto_invertido` com letras minusculas), se for for maiuscula o processo será o mesmo. Para saber se um elemento está em uma ou não lista use o comando a seguir:  "
      ],
      "metadata": {
        "id": "gMrmCQbKXOaK"
      }
    },
    {
      "cell_type": "code",
      "source": [
        "lista = [1, 2, 3, 4, 5]\n",
        "n = 3\n",
        "\n",
        "if n in lista:\n",
        "    print(\"O objeto está na lista.\")\n",
        "else:\n",
        "    print(\"O objeto não está na lista.\")\n",
        "\n",
        "# Nesse caso o objeto está na lista\n",
        "\n",
        "lista = [1, 2, 3, 4, 5]\n",
        "n = 6\n",
        "\n",
        "if n not in lista:\n",
        "    print(\"O objeto não está na lista.\")\n",
        "else:\n",
        "    print(\"O objeto está na lista.\")\n",
        "\n",
        "# Nesse caso o objeto não esta na lista\n"
      ],
      "metadata": {
        "id": "riURcJH2XNbZ"
      },
      "execution_count": null,
      "outputs": []
    },
    {
      "cell_type": "markdown",
      "source": [
        "## Exercício 2\n",
        "\n",
        "\n"
      ],
      "metadata": {
        "id": "uXqafyqNbWLf"
      }
    },
    {
      "cell_type": "code",
      "source": [
        "# Cifra de polibio - codigo para decodificar\n",
        "\n",
        "Po = [['A','B','C','D','E'],\n",
        "     ['F','G','H','I','J'],\n",
        "     ['Q','L','M','N','O'],\n",
        "     ['P','R','S','T','U'],\n",
        "     ['V','W','X','Y','Z']]\n",
        "\n",
        "def Dcod_polibio(codigo):\n",
        "  Dcodigo = ' '\n",
        "  for i in range(int(len(codigo)/2)):\n",
        "    n = 2*i+1\n",
        "    Dcodigo = Dcodigo + Po[int(codigo[n-1])-1][int(codigo[n])-1]\n",
        "    print(Dcodigo)\n",
        "\n",
        "# exemplo\n",
        "Dcod_polibio('134224414435224211212411')"
      ],
      "metadata": {
        "id": "c572l3Qcb7Ut"
      },
      "execution_count": null,
      "outputs": []
    },
    {
      "cell_type": "markdown",
      "source": [
        "## Exercício 3\n",
        "---"
      ],
      "metadata": {
        "id": "xVMQNZm3Fzsi"
      }
    },
    {
      "cell_type": "code",
      "source": [
        "# Código para a cifra de César"
      ],
      "metadata": {
        "id": "2OQvRppDGAdl"
      },
      "execution_count": null,
      "outputs": []
    },
    {
      "cell_type": "code",
      "source": [
        "# Código para a cifra ROT-13"
      ],
      "metadata": {
        "id": "tMZZZdnfGGhp"
      },
      "execution_count": null,
      "outputs": []
    }
  ]
}