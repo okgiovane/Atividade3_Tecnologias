{
  "nbformat": 4,
  "nbformat_minor": 0,
  "metadata": {
    "colab": {
      "provenance": [],
      "collapsed_sections": [
        "DLTYTSP8WD65",
        "qqVTeamSVLDk",
        "XvLMAEuZLO_h",
        "wigvZ1o3T5ww",
        "uWfzauFqT4ZQ",
        "QkUL_P38oKHZ",
        "--bl6L8Bo_e6",
        "2AxmlIjC_ijk",
        "1Us1Ku5GUlja",
        "pKQehUdKIDAj",
        "WoHFILEKNn7j",
        "n1chjCQRPbs_",
        "v10xlc-pVAuI",
        "ijXCX6OtYWaw",
        "2dG4_ZN1mJd4",
        "h1GK8EwHo1pT",
        "VbDbXhTJ8d7r",
        "tpwQi7Nbz-LQ",
        "G3_eB-z6YtqM",
        "sWgNV_5ogJss",
        "2j30HMWboa--",
        "Bl_wyQdLpxX0",
        "RbPzuSBdiRez",
        "fmERhZdCkF0g",
        "Sdae7fTjzDDK",
        "qmQD2keKqkq8",
        "QM32S_dGEahb",
        "XDOurr5BBAQ-",
        "zgqE4ge6-sZc",
        "yg8m2syMDIqD",
        "XCc09Dz2HQ-g",
        "eZ4mqFg-Nfcs",
        "dPHSHmVhPA_H",
        "BzqL85NKQEDQ",
        "ixK7bmpO1dNS",
        "VGrDFBAY3YVN",
        "d8cJ34Fm_9uE",
        "a1Sts7a8ibxT",
        "wFfU-kMSiAz9",
        "CpUXiP-zvkKj",
        "X_0-sbBwx8ri",
        "2lITh0K9IJds",
        "W0bp1V3h2niJ",
        "0yebXo2NGlnY",
        "XPwQ7nHhPvN7",
        "lY-CZlF3WPD8",
        "35q-HEHAEMHi",
        "rGiPDFR0nj3E",
        "pFCNPMg3oLQc",
        "xJtnf5ZGsj17",
        "Z2AGCrmf1hUh",
        "aUp1NCa319Rr",
        "xEROENB931BI",
        "5pyR0zZum8-9",
        "PmLcvBFy8kVr",
        "mc9U5seEds5k",
        "JEPwOEO9xphD",
        "AheGtC7ltexC",
        "BG4S0pRjh9Nz",
        "0W8ilZE7izMC",
        "h81NXMqjm9fp",
        "jyv4WAjVoiXR",
        "jurqKWGBpGpT",
        "2YV5kw4VrG-j",
        "JTWkm0HOvcTS",
        "Vlgy25u3wBTh",
        "T1gUMJJsypsa"
      ],
      "include_colab_link": true
    },
    "kernelspec": {
      "name": "python3",
      "display_name": "Python 3"
    },
    "language_info": {
      "name": "python"
    }
  },
  "cells": [
    {
      "cell_type": "markdown",
      "metadata": {
        "id": "view-in-github",
        "colab_type": "text"
      },
      "source": [
        "<a href=\"https://colab.research.google.com/github/okgiovane/Atividade3_Tecnologias/blob/main/Atividade03_Tecnologias.ipynb\" target=\"_parent\"><img src=\"https://colab.research.google.com/assets/colab-badge.svg\" alt=\"Open In Colab\"/></a>"
      ]
    },
    {
      "cell_type": "markdown",
      "metadata": {
        "id": "DLTYTSP8WD65"
      },
      "source": [
        "# Introdução à Criptografia  \n",
        "\n",
        "Autor: **Giovane Eduardo de Lima**\n",
        "\n",
        "Essa atividade foi desenvolvido para a disciplina de Tecnologias no ensino de Matemática no 1° semestre de 2023. O objetivo é fazer uma introdução à criptografia, apresentando alguns metodos e também uma constextualização historica. Durante a atividade serão propostos exercicios que permitam o estudante articula pensamento computacional, linguagem de programação e conteúdos de matemática.\n",
        "\n",
        "Para a resolução dos exercicio os estudantes precisaram desenvolver estratégias e implemeta-las em linguagem Python de programação. O foco não é se aprofundar em comandos da linguagem Python, mas como um entendimento básico de alguns comando é fundamental para as atividades, será feita uma breve explicação. É indica que seja feita uma apresentação da linguagem Python antes da aplicação dessa atividade. Para maiores dúvidas fica indicado a leitura da [documentação](https://docs.python.org/pt-br/3/tutorial/index.html) da linguagem Python, que conta com uma discrição de funcionamento dos comandos e exemplos de códigos.   \n",
        "\n"
      ]
    },
    {
      "cell_type": "markdown",
      "metadata": {
        "id": "KHkv4D8Cy2xk"
      },
      "source": [
        "# <h1 id='Primeiros-passos'> 1. Um pouco da história da criptografia </h1>\n",
        "\n",
        "---\n",
        "\n",
        "\n",
        "     "
      ]
    },
    {
      "cell_type": "markdown",
      "source": [
        "## Introdução\n",
        "---\n",
        "A criptografia é geralmente descrita como a arte e a ciência de criar códigos secretos. Criada a partir da necessidade de buscar sigilo no envio e recebimento de informações, algo que é muito antigo, na Roma antiga o imperador César a usava para enviar mensagens codificadas que apenas seus generais conseguiam ler, mais recentemente, durante a segunda guerra mundial, o exército alemão possuía artefatos mecânicos bastante sosticados projetados para codicar as mensagens enviadas."
      ],
      "metadata": {
        "id": "ZnN9DDVgGnzN"
      }
    },
    {
      "cell_type": "markdown",
      "source": [
        "O termo criptografia deriva da fusão das palavras gregas kryptós (oculto) e egráphein (escrever) e atualmente existe uma área de pesquisa em matemática dedicada ao estudo de técnicas e algoritmos que garantam a confidencialidade da informação e a integridade dos dados transmitidos.\n",
        "\n",
        "Acredita-se que as primeiras informações criptografadas tenham sido registradas por escribas do faraó Khnumhotep II, por volta de 1900 a.C, no antigo Egito, que resolveu trocar trechos das escritas em argila que indicavam os caminhos para os tesouros guardados nas pirâmides, de forma que só os sacerdotes poderiam decifrá-los.\n",
        "\n",
        "A criptografia também proliferou na Mesopotâmia, onde os intaglios (peças de pedra com símbolos de identificação) funcionavam como certificados rudimentares. Os hebreus, por volta de 600 a 500 a.C, valiam-se das cifras ATBASH, ALBAM ATBAH, que consistiram da substituição simples de uma letra por outra (substituição monoalfabética).\n",
        "\n",
        "Na Idade Média, a contribuição maior foi dada pelos árabes, principalmente pelo temor da Inquisição, que assolava o mundo ocidental. Nos anos 700, al-Khalil apresenta o método da palavra provável utilizado para decifrar mensagens. Nos anos 800, al-Kindi, filósofo árabe e autor de mais de 290 livros, escreveu um tratado sobre a utilização da análise de frequência para decifrar mensagens. O método consiste em analisar a repetição de uma letra na mensagem e substituí-la pelas letras que são normalmente mais usadas, como 'a', 'e', 'o', etc.\n",
        "\n",
        "Com a chegada da Renascença, encerrando o período de trevas da Idade Média, o estudo e aperfeiçoamento da criptografia ganham força, incentivados principalmente pelos governos, cientes de que informação era poder.\n",
        "\n",
        "No final dos anos 1400, Leon Battista Alberti apresenta a substituição polialfabética, uma nova técnica que permitia que diferentes símbolos cifrados pudessem representar o mesmo símbolo do texto claro, dificultando a aplicação da análise de frequência. Nos anos 1500, Heinrich Cornelius Agrippa apresenta a cifra de Pig Pen (Porco no chiqueiro), que substitui letras por símbolos. Aperfeiçoando as ideias de Alberti, Blaise de Vigenère, em 1549, apresenta a cifra de Vigenère, um dos marcos da criptografia e que resistiu a todas as técnicas da criptoanálise por três séculos, até ser quebrada por Babagge e Kasiski já nos anos 1800."
      ],
      "metadata": {
        "id": "76dlI_XsG_N8"
      }
    },
    {
      "cell_type": "markdown",
      "metadata": {
        "id": "qqVTeamSVLDk"
      },
      "source": [
        "## <h2 id='ATBASH'> 1.1 A cifra ATBASH </h2>\n",
        "\n",
        "---\n",
        "\n",
        "Vamos focar agora na cifra de ATBASH. Essa cifra foi utilizada para escrever o \"Livro do Profeta Jeremias\" e correspondia a trocar a primeira letra (Aleph) do alfabeto pela última (Taw) e assim sucessivamente. No alfabeto latino tal correspondência seria:\n",
        "\n",
        "![cifra ATBASH](https://lh3.googleusercontent.com/KTQJPmFJlP-CFSAYhVep_p-LOS-iMbdgKGxf84DDxlZ9bzMTxXhQ2sN2aGfuRsZXyZTkufW6VYm6OAI67YcqvFg)\n",
        "\n",
        "\n",
        "![cifra de ATBASH.png](data:image/png;base64,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)\n"
      ]
    },
    {
      "cell_type": "markdown",
      "source": [
        "Vamos pensar agora em um algoritmo para codificar uma palavra usando a cifra de ATBASH. O algoritmo deve ter como entrada uma `Palavra` é o resultado será uma `Palavra_invertida` codificada na cifra ATBASH.\n",
        "\n",
        "Para explicar melhor como o algoritmo deve funcionar vamos pegar a palavra INFINITO (`Palavra = INFINITO`), cada letra dessa palavra podemos associar a um número começando em zero. A letra na posição 0 será a letra 'I' (`Palavra[0] = 'I'`), na posição 1 será a letra 'N' (`Palavra[1] = 'N'`), e assim por diante.\n",
        "\n",
        "Para cada letra devemos descobrir que posição ela ocupa no `Alfabeto` e vamos associa-la a letra que ocupa essa mesma posição no `Alfabeto_invertido`. Por exemplo a letra 'A' ocupa a posição 0 no `Alfabeto` (sempre vamos iniciar a contagem no 0), ou seja `Alfabeto[0] = 'A'`. Quem ocupa a mesma posição que a letra 'A' no `Alfabeto_invertido` é a letra 'Z', então devemos substituir 'A' por 'Z' (`'A'` &#8594;`'Z'`).\n",
        "\n",
        "Na palavra INFINITO devemos realizar as seguintes substituições:\n",
        "\n",
        "*   Letra 'I' ocupa a posição 8 em `Alfabeto`\n",
        "então (`'I'` &#8594;`Alfabeto_invertido[8] = 'R'`)      \n",
        "*   Letra 'N' ocupa a posição 13 em `Alfabeto`\n",
        "então (`'N'` &#8594;`Alfabeto_invertido[13] = 'M'`)\n",
        "*Letra 'F' ocupa a posição 5 em `Alfabeto`\n",
        "então (`'F'` &#8594;`Alfabeto_invertido[5] = 'U'`)\n",
        "*Letra 'I' ocupa a posição 8 em `Alfabeto`\n",
        "então (`'I'` &#8594;`Alfabeto_invertido[8] = 'R'`)\n",
        "*Letra 'N' ocupa a posição 13 em `Alfabeto`\n",
        "então (`'N'` &#8594;`Alfabeto_invertido[13] = 'M'`)\n",
        "*Letra 'I' ocupa a posição 8 em `Alfabeto`\n",
        "então (`'I'` &#8594;`Alfabeto_invertido[8] = 'R'`)\n",
        "*Letra 'T' ocupa a posição 19 em `Alfabeto`\n",
        "então (`'T'` &#8594;`Alfabeto_invertido[19] = 'G'`)\n",
        "*Letra 'O' ocupa a posição 15 em `Alfabeto`\n",
        "então (`'O'` &#8594;`Alfabeto_invertido[15] = 'L'`)\n",
        "\n",
        "Então a palavra INFINITO codificada pela cifra ATBASH será RMURMRGL (`ATBASH('INFINITO') = RMURMRGL`).\n",
        "\n",
        "Perceba que faremos varias substiruições, a quantidade irá depender da quantidade de letras que a palavra terá. Para isso vamos utilizar o comando `for` que irá criar uma `Palavra_invertida` que será a palavra codificada pela cifra ATBASH. Cada letra da `Palavra_invertida` será resultado da substituição realizada ( `Palavra_invertida[i]`&#8594; resultado da substituição, com `i` indo de 0 até o tamanho da palavra).  \n",
        "\n",
        "A seguir o código em Python que cria a função `ATBASH('X')`, onde `X` é a palavra que se deseja codificar (ou decodificar). A palavra deve estar sempre entre aspas simples (`' '`), todas as letras deve ser maiusculas e não devem conter acentos.  "
      ],
      "metadata": {
        "id": "ovWump5b8oOL"
      }
    },
    {
      "cell_type": "code",
      "source": [
        "Alfabeto = ['A','B','C','D','E','F','G','H','I','J','K','L','M','N','O','P','Q','R','S','T','U','V','W','X','Y','Z']\n",
        "\n",
        "# O codigo a seguir cria o Alfabeto_invertido.\n",
        "n = len(Alfabeto) # O comando len() calcula a quantidade de elementos de uma lista ou string (length)\n",
        "Alfabeto_invertido = [' ']*n\n",
        "\n",
        "for i in range(n):\n",
        "  Alfabeto_invertido[i] = Alfabeto[n-(i+1)]\n",
        "\n",
        "\n",
        "# O codigo a seguir cria a cifra ATBASH.\n",
        "def ATBASH(Palavra):\n",
        "  Palavra_invertida = ' '\n",
        "  Lista_vazia = [' ']*len(Palavra)\n",
        "  for i in range(len(Palavra)):\n",
        "    Lista_vazia[i] = Palavra[i]\n",
        "    Lista_vazia[i] = Alfabeto_invertido[Alfabeto.index(Lista_vazia[i])]\n",
        "    Palavra_invertida = Palavra_invertida + Lista_vazia[i]\n",
        "  return print(Palavra_invertida)\n",
        "\n",
        "# Exemplo\n",
        "ATBASH('INFINITO')"
      ],
      "metadata": {
        "id": "p10sto0Rbn3k"
      },
      "execution_count": null,
      "outputs": []
    },
    {
      "cell_type": "markdown",
      "source": [
        "### Exercício 1\n",
        "> a) Use a função `ATBASH()` para decodificar a frase 'ZOTFMH RMURMRGLH HZL NZRLIVH JFV LFGILH'.\n",
        "\n",
        "> b) Tente modificar o código para que seja possível codificar palavras que esteja em letras minuscula.  "
      ],
      "metadata": {
        "id": "nq22m0IXb3Xb"
      }
    },
    {
      "cell_type": "code",
      "source": [
        "# Use esse espaço para realizar o exercício 1\n"
      ],
      "metadata": {
        "id": "uSG0bGiob2a-"
      },
      "execution_count": null,
      "outputs": []
    },
    {
      "cell_type": "markdown",
      "metadata": {
        "id": "aSP3DRLtz50y"
      },
      "source": [
        "## <h2 id='instalacao-colab'>1.2 Código de Políbio </h2>\n",
        "\n",
        "---\n",
        "A cifra de Políbio ou código de Políbio troca cada letra por uma dupla de números que representam a sua possição na tabela a seguir:\n",
        "\n",
        "\n",
        "![Polibio](https://lh4.googleusercontent.com/aprVsc6v-6gBT4gIpIAvT4XjsmTj4aLhYPupUWzJXJxXF78PTLMlUQpWQbWwCcCclgg13pfxx9S_ziodm6-grJ8)\n",
        "\n",
        "\n",
        "Então a letra 'L' será susbittuida pelo número '32', pois esta na terceira linha ('3') segunda coluna ('2'). Nesta cifra a palavra 'CRIPTOGRAFIA' seria substituida por '134224414435224211212411'.\n"
      ]
    },
    {
      "cell_type": "markdown",
      "source": [
        "Podemos pensar em criar duas funções para trabalhar com essa cifra. A primeira seria a função `polibio('X')`, onde `'X'` seria uma palavra e o resultado dessa função seria o número que representa essa palavra. A outra função seria para decodificar (`Dcod_polibio('X')`), onde a entrada seria um número e o resultado seria uma palavra.\n",
        "\n",
        "Perceba que na cifra ATBASH a mesma função podia ser usada para codificar e decodificar. Na cifra de Políbio isso não é possível pois a entrada e o resultada são de naturezas diferentes (um é uma palavra e o outro é um número).\n",
        "\n",
        "A primeira coisa que precisamos lidar para começar a esboçar o algoritmo é definir o elemento que está na terceira linha primeira coluna. O elemento K/Q indica que quando aparecer o número `'31'` ele pode ser substituido por 'K' ou por 'Q', para saber qual substituição deve ser feita precisamos analisar o contexto. Por exemplo a sequência `'31451132'` pode representar a palavra `'QUAL'` ou `'KUAL'`, como a palavra `'KUAL'` não existe na língua portuguesa essa opção não é possível. Então vamos substituir o elemeto `'K/Q'` somente por `Q` pois é uma letra que aparece com mais frequência nas palavras.\n",
        "\n",
        "A tabela da cifra de Políbio pode ser vista como uma matriz, que vamos chamar de `'Po'`, e a susbstituição que queremos fazer é: dado uma letra substituir por `'ij'`, onde `'i'` representa a linha e `'j'` a coluna dessa letra. Em Python a contagem sempre começa no zero, então a letra `'A'` estaria na linha zero coluna zero (`'A' == Po[0][0] `)* e a letra `'L'`estaria na linha dois coluna\n",
        "um (`'L' == Po[2][1] `), para corrigir isso basta somar uma unidade (`+1`) aos índices.\n",
        "\n",
        "Para cada letra (`Texto[k]`, `k` começa em zero e vai até o tamanho do `Texto`) vamos percorrer a matriz `Po` (variando as linhas `i` e as colunas `j`) até achar a posição que a letra ocupa.  \n",
        "\n",
        "Por exemplo, `Texto = MATEMATICA`, onde `Texto[0] = 'M'`, o algoritmo vai percorrer a matriz até achar o elemento que seja igual a letra `'M'`, a letra esta na segunda linha segunda coluna (`Texto[0] == Po[2][2]` &#8594; `VERDADEIRO`), então `i=2` e `j=2` e a substituição será `'M'` &#8594; `str(2+1) + str(2+1) = '33'`. A função `str()` transforma um número em um texto (string), a soma nesse caso representa a junção das duas strings.\n",
        "\n",
        "O código em Python a seguir representa esse processo de codificação. Perceba que o código possui três comandos `for`, o primeiro serve para percorrer as letras do `Texto` e os dois outro `for` percorrem a matriz `Po`.   \n",
        "\n",
        "\\* Em python usamos o sinal `=` para atribuir valores, por exemplo `a=3`,`b=4` e `c=6`, e usamos o sinal de `==` para fazer uma comparação lógica, por exemplo `a+b == C` &#8594; `FALSO` e `2*a == C` &#8594; `VERDADEIRO`.    "
      ],
      "metadata": {
        "id": "u9AUEbV1VNG7"
      }
    },
    {
      "cell_type": "code",
      "source": [
        "# Cifra de Políbio - cÓdigo para codificar\n",
        "\n",
        "Po = [['A','B','C','D','E'],\n",
        "     ['F','G','H','I','J'],\n",
        "     ['Q','L','M','N','O'],\n",
        "     ['P','R','S','T','U'],\n",
        "     ['V','W','X','Y','Z']]\n",
        "\n",
        "def polibio(Texto):\n",
        "  Codigo = ' '\n",
        "  for k in range(len(Texto)):\n",
        "    for i in range(5):\n",
        "      for j in range(5):\n",
        "        if Texto[k] == (Po[i][j]):\n",
        "          Codigo = Codigo + str(i+1)+str(j+1)\n",
        "          print(Codigo)\n",
        "\n",
        "# exemplo\n",
        "polibio('MATEMATICA')"
      ],
      "metadata": {
        "id": "iBx0meOSclBl"
      },
      "execution_count": null,
      "outputs": []
    },
    {
      "cell_type": "markdown",
      "source": [
        "### Exercícios 2\n",
        "\n",
        "> Tendo como exemplo o algoritimo que serve para codificar uma palavra usando a cifra de Políbio, faça o esboço do algoritmo para decodificar (escreva o passo a passo e especifique as susbstituições que devem ser feitas) depois organize esse algoritmo em Python.  "
      ],
      "metadata": {
        "id": "xXp97Pu7pkWd"
      }
    },
    {
      "cell_type": "code",
      "source": [
        "# Use esse espaço para realizar o exercício 2\n"
      ],
      "metadata": {
        "id": "nmfYi81OplIb"
      },
      "execution_count": null,
      "outputs": []
    },
    {
      "cell_type": "markdown",
      "metadata": {
        "id": "2LLBuSBtEJEB"
      },
      "source": [
        "Para que o Manim funcione, é necessário reiniciar o ambiente de execução. Para isso, acesse o menu `Ambiente de execução` &#8594; `Reiniciar ambiente de execução`.\n",
        "\n",
        "\n",
        "\n",
        "Para verificar se tudo está funcionando, execute o seguinte código.\n",
        "Para tornar o uso do Manim mais simples, usaremos o Google Colab, uma plataforma gratuita para criar códigos em Python. Nesta plataforma, cada arquivo é chamado de **notebook**. Um notebook é dividido em **células** e pode conter tanto textos como códigos.\n",
        "\n",
        "\n",
        "Para instalar o Manim no Google Colab, basta executar o seguinte código, pressione <kbd>Shift</kbd> + <kbd>Enter</kbd> ou <kbd>Ctrl</kbd> + <kbd>Enter</kbd>.\n",
        "\n",
        "> Obs: O código a seguir pode demorar um tempo para rodar.Caso apareça a mensagem\n",
        "```\n",
        "Manim Community v0.11.0\n",
        "```\n",
        "ou algo parecido, o Manim foi instalado com sucesso.\n",
        "\n",
        "Caso apareça uma mensagem de erro, o Manim não foi instalado corretamente. Tente reexecutar as instruções anteriores.\n",
        "\n"
      ]
    },
    {
      "cell_type": "markdown",
      "metadata": {
        "id": "XvLMAEuZLO_h"
      },
      "source": [
        "## <h2 id='primeira-animacao'> 1.3 Código de César </h2>\n",
        "\n",
        "---\n",
        "\n",
        "Júlio César por volta de 50 a.C foi o criador da cifra mais famosa da Antiguidade, o código de César, que consistia na substituição de uma letra pela que lhe sucedia em três posições. Por exemplo, a letra 'A' seria substituida pela letra 'D' e a letra 'B' seria substituida pela letra 'E'. A tabela a seguir exemplifica as substituições que são feitas no Código de César.\n",
        "\n",
        "![Codigo de cesar](https://lh4.googleusercontent.com/DI6hlyagPntzQKwHAhzdB6D66Sb-gQew41_qDRC3-oEskvR0EVXqbzvrL099eJS39_jYmhNrfT63Y2aUIN1QQ3M)\n",
        "\n",
        "O código de César ainda é bastante utilizado nos dias de hoje, para garantir que textos eletrônicos não sejam lidos por acidente ou distração. Outras cifras se assemelham ao Código de César como o ROT-13 e o ROT-47.\n",
        "\n"
      ]
    },
    {
      "cell_type": "markdown",
      "source": [
        "No ROT-13 o valor do deslocamento é de 13 letras. A vantagem desse método é que não há qualquer que não há qualquer diferença entre o procedimento para codificar um texto em ROT-13 e o procedimento para decodifica-lo, isso se da pelo fato do nosso alfabeto possuir 26 letras. A seguir a tabela que representa as substiruições feita pelo ROT-13.\n",
        "\n",
        "![Rot13](https://lh6.googleusercontent.com/StCODlaYX5lCAb3Hqqe_k3J9_gzDvGzq8ZIQtkunJfnNvhb9UVTi6V3zYpldZ-QTcCrGSvzJfYWKstMaNOYySlZD5hJEfKYqUUWlqYPcnE9LhPb5Vryue-MGGZ_sDZA1Yw=w1280)\n",
        "\n",
        "Já o ROT-47 é um pouco mais complexo e permite incluir pontuação e espaços em branco na codificação, trazendo um resultado final aparentemente mais difícil de ser decifrado."
      ],
      "metadata": {
        "id": "8Puc2ffWIh9y"
      }
    },
    {
      "cell_type": "markdown",
      "source": [
        "### Exercício 3\n",
        ">a) Esboce o algoritimo de César e defina a função `Cesar('X')` que utiliza esse algoritmo para codificar uma palavra `X`.    \n",
        "\n",
        ">b) Esboce o algoritmo que codifica uma palavra usando o processo de substituição do ROT-13. Depois implemente esse algoritmo em Python e use para definir a função `ROT13('X')`, onde `X` é a palavra que se deseja codificar ou decodificar. Use esse código para decodificar a frase 'DOIS PONTOS DEFINEM UMA RETA'. (Dica: utilize o algoritmo da letra a) faça uma adptação)"
      ],
      "metadata": {
        "id": "M1GabD5fHRb2"
      }
    },
    {
      "cell_type": "code",
      "source": [
        "# Use esse espaço para realizar o exercício 3\n",
        "\n",
        "# Código de César\n",
        "\n",
        "\n",
        "\n",
        "\n",
        "\n",
        "\n",
        "\n",
        "\n",
        "\n"
      ],
      "metadata": {
        "id": "Zh-QQLm4Q24y"
      },
      "execution_count": null,
      "outputs": []
    },
    {
      "cell_type": "markdown",
      "source": [
        "# <h1 id='Referências'> 2. Referências </h1>\n",
        "---\n",
        "\n"
      ],
      "metadata": {
        "id": "lJ8AjMamlVps"
      }
    },
    {
      "cell_type": "markdown",
      "source": [
        "KIRILOV, Alexandre. *et all*. **10° Brincando de Matemática**: Criptografia. UFPR, 2014. Versão online disponivel em: http://www.petmatematica.ufpr.br/arquivos/10_brincando.pdf"
      ],
      "metadata": {
        "id": "3FwjMbIOJDV1"
      }
    },
    {
      "cell_type": "markdown",
      "source": [
        "# <h1 id='Resolução'> 3. Resolução dos exercícios  </h1>\n",
        "---"
      ],
      "metadata": {
        "id": "1Xz1nYYnl_7v"
      }
    },
    {
      "cell_type": "markdown",
      "source": [
        "## Exercício 1\n",
        "\n",
        "> a) A frase é 'ALGUNS INFINITOS SÃO MAIORES QUE OUTROS'\n",
        "\n",
        "> b) Use o comando `if` para separar em dois casos, se ('`ìf`') a letra for minuscula substitua por uma letra minuscula (crie um `alfabeto` e um `alfabeto_invertido` com letras minusculas), se for for maiuscula o processo será o mesmo. Para saber se um elemento está em uma ou não lista use o comando a seguir:  "
      ],
      "metadata": {
        "id": "gMrmCQbKXOaK"
      }
    },
    {
      "cell_type": "code",
      "source": [
        "lista = [1, 2, 3, 4, 5]\n",
        "n = 3\n",
        "\n",
        "if n in lista:\n",
        "    print(\"O objeto está na lista.\")\n",
        "else:\n",
        "    print(\"O objeto não está na lista.\")\n",
        "\n",
        "# Nesse caso o objeto está na lista\n",
        "\n",
        "lista = [1, 2, 3, 4, 5]\n",
        "n = 6\n",
        "\n",
        "if n not in lista:\n",
        "    print(\"O objeto não está na lista.\")\n",
        "else:\n",
        "    print(\"O objeto está na lista.\")\n",
        "\n",
        "# Nesse caso o objeto não esta na lista\n"
      ],
      "metadata": {
        "id": "riURcJH2XNbZ"
      },
      "execution_count": null,
      "outputs": []
    },
    {
      "cell_type": "markdown",
      "source": [
        "## Exercício 2\n",
        "\n",
        "\n"
      ],
      "metadata": {
        "id": "uXqafyqNbWLf"
      }
    },
    {
      "cell_type": "code",
      "source": [
        "# Cifra de polibio - codigo para decodificar\n",
        "\n",
        "Po = [['A','B','C','D','E'],\n",
        "     ['F','G','H','I','J'],\n",
        "     ['Q','L','M','N','O'],\n",
        "     ['P','R','S','T','U'],\n",
        "     ['V','W','X','Y','Z']]\n",
        "\n",
        "def Dcod_polibio(codigo):\n",
        "  Dcodigo = ' '\n",
        "  for i in range(int(len(codigo)/2)):\n",
        "    n = 2*i+1\n",
        "    Dcodigo = Dcodigo + Po[int(codigo[n-1])-1][int(codigo[n])-1]\n",
        "    print(Dcodigo)\n",
        "\n",
        "# exemplo\n",
        "Dcod_polibio('134224414435224211212411')"
      ],
      "metadata": {
        "id": "c572l3Qcb7Ut"
      },
      "execution_count": null,
      "outputs": []
    },
    {
      "cell_type": "markdown",
      "source": [
        "## Exercício 3\n",
        "---"
      ],
      "metadata": {
        "id": "xVMQNZm3Fzsi"
      }
    },
    {
      "cell_type": "code",
      "source": [
        "# Código para a cifra de César"
      ],
      "metadata": {
        "id": "2OQvRppDGAdl"
      },
      "execution_count": null,
      "outputs": []
    },
    {
      "cell_type": "code",
      "source": [
        "# Código para a cifra ROT-13"
      ],
      "metadata": {
        "id": "tMZZZdnfGGhp"
      },
      "execution_count": null,
      "outputs": []
    }
  ]
}